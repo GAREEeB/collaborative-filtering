{
 "cells": [
  {
   "cell_type": "markdown",
   "metadata": {},
   "source": [
    "# Recommendation engine using item-item collaborative filtering"
   ]
  },
  {
   "cell_type": "code",
   "execution_count": 100,
   "metadata": {},
   "outputs": [
    {
     "data": {
      "text/plain": [
       "rating  movie_id\n",
       "1       1            8\n",
       "        2            8\n",
       "        3           11\n",
       "        4            6\n",
       "        5            4\n",
       "        6            2\n",
       "        7            9\n",
       "        8            4\n",
       "        9           11\n",
       "        10           2\n",
       "        11           8\n",
       "        12           2\n",
       "        13          10\n",
       "        14           6\n",
       "        15           7\n",
       "        16           3\n",
       "        17          10\n",
       "        18           2\n",
       "        19           3\n",
       "        20           7\n",
       "        21          11\n",
       "        22           5\n",
       "        24           9\n",
       "        25          10\n",
       "        26           1\n",
       "        27           7\n",
       "        29          15\n",
       "        30           1\n",
       "        31           4\n",
       "        32           3\n",
       "                    ..\n",
       "5       1503         1\n",
       "        1512         4\n",
       "        1514         1\n",
       "        1516         1\n",
       "        1524         3\n",
       "        1529         1\n",
       "        1536         1\n",
       "        1537         1\n",
       "        1540         1\n",
       "        1558         4\n",
       "        1589         1\n",
       "        1591         2\n",
       "        1592         2\n",
       "        1594         1\n",
       "        1597         1\n",
       "        1598         1\n",
       "        1599         1\n",
       "        1600         1\n",
       "        1605         1\n",
       "        1607         1\n",
       "        1612         2\n",
       "        1617         1\n",
       "        1620         1\n",
       "        1628         2\n",
       "        1629         1\n",
       "        1639         1\n",
       "        1642         1\n",
       "        1643         2\n",
       "        1653         1\n",
       "        1656         1\n",
       "Length: 6714, dtype: int64"
      ]
     },
     "execution_count": 100,
     "metadata": {},
     "output_type": "execute_result"
    }
   ],
   "source": [
    "import pandas as pd\n",
    "import os\n",
    "\n",
    "#Describe columns names\n",
    "u_cols = ['user_id', 'age', 'sex', 'occupation', 'zip_code']\n",
    "r_cols = ['user_id', 'movie_id', 'rating', 'unix_timestamp']\n",
    "i_cols = ['movie id', 'movie title' ,'release date','video release date', 'IMDb URL', 'unknown', 'Action', 'Adventure',\n",
    " 'Animation', 'Children\\'s', 'Comedy', 'Crime', 'Documentary', 'Drama', 'Fantasy',\n",
    " 'Film-Noir', 'Horror', 'Musical', 'Mystery', 'Romance', 'Sci-Fi', 'Thriller', 'War', 'Western']\n",
    "\n",
    "#Read data from files.\n",
    "item_data = pd.read_csv('../u.item', sep = '|', encoding = 'latin-1', names = i_cols)\n",
    "user_data = pd.read_csv('../u.user', sep = '|', encoding = 'latin-1', names = u_cols)\n",
    "ratings_data = pd.read_csv('../u.data', sep='\\t', names=r_cols, encoding='latin-1')\n",
    "\n",
    "# ratings_data['rating'] = ratings_data[\"rating\"].apply(lambda x: x/3)\n",
    "    \n",
    "ratings_data.groupby(['rating', 'movie_id']).size()"
   ]
  }
 ],
 "metadata": {
  "kernelspec": {
   "display_name": "Python 3",
   "language": "python",
   "name": "python3"
  },
  "language_info": {
   "codemirror_mode": {
    "name": "ipython",
    "version": 3
   },
   "file_extension": ".py",
   "mimetype": "text/x-python",
   "name": "python",
   "nbconvert_exporter": "python",
   "pygments_lexer": "ipython3",
   "version": "3.6.4"
  }
 },
 "nbformat": 4,
 "nbformat_minor": 2
}
